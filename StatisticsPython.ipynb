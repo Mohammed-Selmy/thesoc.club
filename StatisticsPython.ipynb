{
  "nbformat": 4,
  "nbformat_minor": 0,
  "metadata": {
    "colab": {
      "provenance": [],
      "authorship_tag": "ABX9TyM+gTC+ONZSWvkhmXV1zZ3V",
      "include_colab_link": true
    },
    "kernelspec": {
      "name": "python3",
      "display_name": "Python 3"
    },
    "language_info": {
      "name": "python"
    }
  },
  "cells": [
    {
      "cell_type": "markdown",
      "metadata": {
        "id": "view-in-github",
        "colab_type": "text"
      },
      "source": [
        "<a href=\"https://colab.research.google.com/github/Mohammed-Selmy/thesoc.club/blob/master/StatisticsPython.ipynb\" target=\"_parent\"><img src=\"https://colab.research.google.com/assets/colab-badge.svg\" alt=\"Open In Colab\"/></a>"
      ]
    },
    {
      "cell_type": "code",
      "source": [
        "import numpy as np\n",
        "def function1(a,b):\n",
        "  #calculating the area of a triangle by ab/2\n",
        "  return (a*b)/2\n",
        "\n",
        "#taking the first argument height and second as radius\n",
        "def function2(h,r):\n",
        "  #calculating area of a cone by (pi*r**2*h)/3\n",
        "  return (np.pi*(r**2)*h)/3\n",
        "\n",
        "print(\"Triangle area a=5, b=3, AREA:\",function1(5,3))\n",
        "print(\"Cone Volume h=5, r=15, AREA:\",function2(5,15))\n",
        "print(\"Cone Volume h=10, r=10, AREA:\",function2(10,10))"
      ],
      "metadata": {
        "colab": {
          "base_uri": "https://localhost:8080/"
        },
        "id": "GeIECcXiCDZ0",
        "outputId": "cb19b7ef-5f50-437e-bf46-9a7adc44848c"
      },
      "execution_count": null,
      "outputs": [
        {
          "output_type": "stream",
          "name": "stdout",
          "text": [
            "Triangle area a=5, b=3, AREA: 7.5\n",
            "Cone Volume h=5, r=15, AREA: 1178.0972450961724\n",
            "Cone Volume h=10, r=10, AREA: 1047.1975511965977\n"
          ]
        }
      ]
    },
    {
      "cell_type": "code",
      "source": [
        "#prompt the user for input\n",
        "unit = int(input(\"Usage units: \"))\n",
        "if(unit <= 100):\n",
        "  price = unit * 0.5\n",
        "#Anything above 100 will be multiplied by a factor of 0.75 in addition to the price of the first 100 units\n",
        "elif(unit > 100 and unit < 200):\n",
        "  price = (unit - 100)*0.75 + 50\n",
        "#Same thing for the price of anything above 200, we add the price of the first 100 and the second 100 then multiply anything\n",
        "#more with a factor of 1.25\n",
        "elif(unit > 200):\n",
        "  price = (unit-200)*1.25+125\n",
        "#outputting the price\n",
        "print(\"Price: $\", price)"
      ],
      "metadata": {
        "colab": {
          "base_uri": "https://localhost:8080/"
        },
        "id": "3CPzej4-jLP3",
        "outputId": "692f5510-db17-4784-dfaf-9d6eea250155"
      },
      "execution_count": null,
      "outputs": [
        {
          "output_type": "stream",
          "name": "stdout",
          "text": [
            "Usage units: 120\n",
            "Price: $ 65.0\n"
          ]
        }
      ]
    },
    {
      "cell_type": "code",
      "source": [
        "#start by the number 100 since it is the lowest bound\n",
        "i = 100\n",
        "\n",
        "#make a while loop that will start looping until it reaches 400\n",
        "while i <= 400:\n",
        "\n",
        "  #if the remainder of the number when dicided by 11 = 0 then it means that it is\n",
        "  #divisible, if not then it is not and we made \"and\" comparison operator such that\n",
        "  #we ensure that both conditions are true, the second condition being that it shouldnt\n",
        "  #be divisible by 2 and then we print i. The i keeps incrementing nevertheless\n",
        "  if i % 11 == 0 and i % 2 != 0:\n",
        "    print(i)\n",
        "  i +=1"
      ],
      "metadata": {
        "colab": {
          "base_uri": "https://localhost:8080/"
        },
        "id": "smXz5tgcE_1x",
        "outputId": "b3b3c19e-dab9-44ef-dae3-65f5d05e1b9b"
      },
      "execution_count": null,
      "outputs": [
        {
          "output_type": "stream",
          "name": "stdout",
          "text": [
            "121\n",
            "143\n",
            "165\n",
            "187\n",
            "209\n",
            "231\n",
            "253\n",
            "275\n",
            "297\n",
            "319\n",
            "341\n",
            "363\n",
            "385\n"
          ]
        }
      ]
    },
    {
      "cell_type": "code",
      "source": [
        "#Creating the class\n",
        "class Course:\n",
        "  #default constructor for the course\n",
        "  def __init__(self, name, instructor, students, code):\n",
        "    self.name = name\n",
        "    self.instructor = instructor\n",
        "    self.students = students\n",
        "    self.code = code\n",
        "    #printing the info of the course using the self\n",
        "  def printINFO(self):\n",
        "    print('course name:', self.name)\n",
        "    print('course instructor:', self.instructor)\n",
        "    print(\"students enrolled:\", self.students)\n",
        "    print('course code:', self.code)\n",
        "\n",
        "#creating an object\n",
        "course = Course(\"Intro to AI and Data Science\", \"Rami Haweelih\", 40, \"NGN112\")\n",
        "course.printINFO()"
      ],
      "metadata": {
        "colab": {
          "base_uri": "https://localhost:8080/"
        },
        "id": "RT06EnyMYKyY",
        "outputId": "ec5fa7c3-f343-4b80-ca09-c304f90a5bcf"
      },
      "execution_count": null,
      "outputs": [
        {
          "output_type": "stream",
          "name": "stdout",
          "text": [
            "course name: Intro to AI and Data Science\n",
            "course instructor: Rami Haweelih\n",
            "students enrolled: 40\n",
            "course code: NGN112\n"
          ]
        }
      ]
    },
    {
      "cell_type": "code",
      "source": [
        "import numpy as np\n",
        "\n",
        "# Given student grades\n",
        "grades = np.array([100, 95, 80, 97, 56, 75, 77, 98, 87, 90, 65, 59, 65, 67, 87, 55, 69, 89, 78, 78, 80, 89, 57, 87, 68, 77])\n",
        "\n",
        "# Number of grades\n",
        "num_grades = grades.size\n",
        "\n",
        "# Sum of the grades\n",
        "total_sum = grades.sum()\n",
        "\n",
        "# Minimum grade\n",
        "min_grade = grades.min()\n",
        "\n",
        "# Maximum grade\n",
        "max_grade = grades.max()\n",
        "\n",
        "# Average grade\n",
        "average_grade = grades.mean()\n",
        "\n",
        "# Standard deviation of the grades\n",
        "std_dev = grades.std()\n",
        "\n",
        "# Variance of the grades\n",
        "variance = grades.var()\n",
        "\n",
        "# Print the summary statistics\n",
        "print(f\"Number of grades: {num_grades}\")\n",
        "print(f\"Sum of the grades: {total_sum}\")\n",
        "print(f\"Minimum grade: {min_grade}\")\n",
        "print(f\"Maximum grade: {max_grade}\")\n",
        "print(f\"Average grade: {average_grade}\")\n",
        "print(f\"Standard deviation of the grades: {std_dev}\")\n",
        "print(f\"Variance of the grades: {variance}\")\n"
      ],
      "metadata": {
        "colab": {
          "base_uri": "https://localhost:8080/"
        },
        "id": "WKwPmwOybuQp",
        "outputId": "0973f984-f82c-4bb2-99f5-87d85401fc45"
      },
      "execution_count": null,
      "outputs": [
        {
          "output_type": "stream",
          "name": "stdout",
          "text": [
            "Number of grades: 26\n",
            "Sum of the grades: 2025\n",
            "Minimum grade: 55\n",
            "Maximum grade: 100\n",
            "Average grade: 77.88461538461539\n",
            "Standard deviation of the grades: 13.354131953694571\n",
            "Variance of the grades: 178.33284023668637\n"
          ]
        }
      ]
    },
    {
      "cell_type": "code",
      "source": [
        "import pandas as pd\n",
        "\n",
        "# Create a dictionary with course information\n",
        "data = [\n",
        "    {\"Course\": \"NGN112\", \"Students\": 41, \"Instructor\": \"D. Haweeleh\", \"Section\": 1},\n",
        "    {\"Course\": \"NGN112\", \"Students\": 40, \"Instructor\": \"D. Hammi\", \"Section\": 2},\n",
        "    {\"Course\": \"NGN112\", \"Students\": 39, \"Instructor\": \"D. Zakaria\", \"Section\": 3},\n",
        "    {\"Course\": \"NGN112\", \"Students\": 41, \"Instructor\": \"D. Ali\", \"Section\": 4},\n",
        "    {\"Course\": \"NGN112\", \"Students\": 42, \"Instructor\": \"D. Hassan\", \"Section\": 5},\n",
        "    {\"Course\": \"NGN112\", \"Students\": 40, \"Instructor\": \"D. Hammi\", \"Section\": 6},\n",
        "    {\"Course\": \"NGN112\", \"Students\": 41, \"Instructor\": \"D. Alshraideh\", \"Section\": 7},\n",
        "    {\"Course\": \"NGN112\", \"Students\": 42, \"Instructor\": \"D. Alshraideh\", \"Section\": 8},\n",
        "    {\"Course\": \"NGN112\", \"Students\": 39, \"Instructor\": \"D. Hammi\", \"Section\": 9},\n",
        "    {\"Course\": \"NGN112\", \"Students\": 40, \"Instructor\": \"D. Hasan\", \"Section\": 10},\n",
        "    {\"Course\": \"NGN112\", \"Students\": 39, \"Instructor\": \"D. Teng\", \"Section\": 11},\n",
        "    {\"Course\": \"NGN112\", \"Students\": 40, \"Instructor\": \"D. Teng\", \"Section\": 12},\n",
        "    {\"Course\": \"NGN112\", \"Students\": 40, \"Instructor\": \"D. Hasan\", \"Section\": 13}\n",
        "]\n",
        "\n",
        "# Create a DataFrame from the dictionary\n",
        "df = pd.DataFrame(course_data)\n",
        "\n",
        "# Display the content of the DataFrame\n",
        "print(\"DataFrame Content:\")\n",
        "print(df)\n",
        "\n",
        "# Print a summary of all attributes using the describe method\n",
        "print(\"\\nSummary Statistics:\")\n",
        "print(df.describe())\n"
      ],
      "metadata": {
        "colab": {
          "base_uri": "https://localhost:8080/"
        },
        "id": "rYCrehzmftTh",
        "outputId": "33f692c2-49ad-49c9-cc10-2a1dd4d47278"
      },
      "execution_count": null,
      "outputs": [
        {
          "output_type": "stream",
          "name": "stdout",
          "text": [
            "DataFrame Content:\n",
            "    Course  Students     Instructor  Section\n",
            "0   NGN112        41    D. Haweeleh        1\n",
            "1   NGN112        40       D. Hammi        2\n",
            "2   NGN112        39     D. Zakaria        3\n",
            "3   NGN112        41         D. Ali        4\n",
            "4   NGN112        42      D. Hassan        5\n",
            "5   NGN112        40       D. Hammi        6\n",
            "6   NGN112        41  D. Alshraideh        7\n",
            "7   NGN112        42  D. Alshraideh        8\n",
            "8   NGN112        39       D. Hammi        9\n",
            "9   NGN112        40       D. Hasan       10\n",
            "10  NGN112        39        D. Teng       11\n",
            "11  NGN112        40        D. Teng       12\n",
            "12  NGN112        40       D. Hasan       13\n",
            "\n",
            "Summary Statistics:\n",
            "        Students   Section\n",
            "count  13.000000  13.00000\n",
            "mean   40.307692   7.00000\n",
            "std     1.031553   3.89444\n",
            "min    39.000000   1.00000\n",
            "25%    40.000000   4.00000\n",
            "50%    40.000000   7.00000\n",
            "75%    41.000000  10.00000\n",
            "max    42.000000  13.00000\n"
          ]
        }
      ]
    }
  ]
}